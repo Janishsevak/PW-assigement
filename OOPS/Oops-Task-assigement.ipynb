{
 "cells": [
  {
   "cell_type": "code",
   "execution_count": null,
   "id": "ef4e0c20-a95f-4b29-8d21-c052d4078239",
   "metadata": {},
   "outputs": [],
   "source": [
    "Q1, Create a vehicle class with an init method having instance variables as name_of_vehicle, max_speed\n",
    "and average_of_vehicle."
   ]
  },
  {
   "cell_type": "code",
   "execution_count": 20,
   "id": "9bf5b334-cd96-4895-bd13-2fdf548d45cc",
   "metadata": {},
   "outputs": [
    {
     "name": "stdout",
     "output_type": "stream",
     "text": [
      "The skoda is max_speed 200 average of vehicle 15\n"
     ]
    }
   ],
   "source": [
    "class vehicle: ## class\n",
    "    def __init__(self,name_of_vehicle, max_speed,average_of_vehicle): ## inint fuction\n",
    "        self.name_of_vehicle = name_of_vehicle\n",
    "        self.max_speed = max_speed\n",
    "        self.average_of_vehicle = average_of_vehicle\n",
    "        \n",
    "    def vehicale_data(self):\n",
    "        print(f\"The {self.name_of_vehicle} is max_speed {self.max_speed} average of vehicle {self.average_of_vehicle}\")\n",
    "        \n",
    "a = vehicle('skoda',200,15)  ## class object  \n",
    "a.vehicale_data()"
   ]
  },
  {
   "cell_type": "markdown",
   "id": "1d0a6f73-616a-4510-a3b2-d5bbd5d12162",
   "metadata": {},
   "source": [
    "Q2. Create a child class car from the vehicle class created in Que 1, which will inherit the vehicle class.\n",
    "Create a method named seating_capacity which takes capacity as an argument and returns the name of\n",
    "the vehicle and its seating capacity."
   ]
  },
  {
   "cell_type": "code",
   "execution_count": 32,
   "id": "1eba2e94-6684-4be7-be76-3c7d7fdd901a",
   "metadata": {},
   "outputs": [],
   "source": [
    "## Car class inheritaing from vehical class\n",
    "class car(vehicle) : \n",
    "      def __init__(self,name_of_vehicle,max_speed,average_of_vehicle,seating_capacity):\n",
    "            super().__init__(name_of_vehicle,max_speed,average_of_vehicle)\n",
    "            self.seating_capacity = seating_capacity"
   ]
  },
  {
   "cell_type": "code",
   "execution_count": 38,
   "id": "7ec1b340-d611-4044-8280-4d04ba5b24a0",
   "metadata": {},
   "outputs": [
    {
     "name": "stdout",
     "output_type": "stream",
     "text": [
      "Maruti have \n",
      "Seating capacity 5\n"
     ]
    }
   ],
   "source": [
    "Car_details = car(\"Maruti\",200,15,5)\n",
    "print(f\"{Car_details.name_of_vehicle} have \")\n",
    "print(f\"Seating capacity {Car_details.seating_capacity}\")"
   ]
  },
  {
   "cell_type": "code",
   "execution_count": null,
   "id": "9c0a8ea2-ce63-4a5c-8c73-459e30e26065",
   "metadata": {},
   "outputs": [],
   "source": [
    "Q3. What is multiple inheritance? Write a python code to demonstrate multiple inheritance.\n",
    "Ans:-Multiple inheritance means that a subclass can inherit from two or more superclasses"
   ]
  },
  {
   "cell_type": "code",
   "execution_count": 1,
   "id": "15996323-2eee-47c9-a624-aab9814f04f7",
   "metadata": {},
   "outputs": [],
   "source": [
    "class class1 :\n",
    "    def test_class1(self) : \n",
    "        print(\"this is my class1 \" )"
   ]
  },
  {
   "cell_type": "code",
   "execution_count": 3,
   "id": "6ed88de2-033a-469d-ba38-7c4553757fb4",
   "metadata": {},
   "outputs": [],
   "source": [
    "class class2(class1) : \n",
    "    def test_class2(self) : \n",
    "        print(\"this is my class2\" )"
   ]
  },
  {
   "cell_type": "code",
   "execution_count": 4,
   "id": "cce9495a-94d5-4c0c-b3cc-90886f34baac",
   "metadata": {},
   "outputs": [],
   "source": [
    "class class3(class2) : \n",
    "    def test_class3(self) : \n",
    "        print(\"this is my class3 \")"
   ]
  },
  {
   "cell_type": "code",
   "execution_count": 5,
   "id": "26373df5-df2d-4de6-a607-bd0d6188e08d",
   "metadata": {},
   "outputs": [],
   "source": [
    "obj_class3  = class3()"
   ]
  },
  {
   "cell_type": "code",
   "execution_count": 7,
   "id": "a65556e5-a037-4052-b921-e0198bef4c06",
   "metadata": {},
   "outputs": [
    {
     "name": "stdout",
     "output_type": "stream",
     "text": [
      "this is my class1 \n",
      "this is my class2\n",
      "this is my class3 \n"
     ]
    }
   ],
   "source": [
    "obj_class3.test_class1()\n",
    "obj_class3.test_class2()\n",
    "obj_class3.test_class3()"
   ]
  },
  {
   "cell_type": "code",
   "execution_count": null,
   "id": "cd250ac1-0fa2-4343-a7f9-d31bff8cc1cf",
   "metadata": {},
   "outputs": [],
   "source": [
    "Q4. What are getter and setter in python? Create a class and create a getter and a setter method in this\n",
    "class.\n",
    "Ans:-Getters: These are the methods used in Object-Oriented Programming (OOPS) which helps to access the private attributes from a class.\n",
    "Setters: These are the methods used in OOPS feature which helps to set the value to private attributes in a class."
   ]
  },
  {
   "cell_type": "code",
   "execution_count": 31,
   "id": "cc679092-5993-45b7-a5c4-ccbb467b03c2",
   "metadata": {},
   "outputs": [],
   "source": [
    "class pwskills :\n",
    "    \n",
    "    def __init__(self ,course_price , coruse_name):\n",
    "        \n",
    "        self.__course_price = course_price\n",
    "        self.course_name = coruse_name\n",
    "        \n",
    "    @property # function to get value\n",
    "    def course_price_access(self) : \n",
    "        return self.__course_price\n",
    "    \n",
    "    @course_price_access.setter # function to set value of _age \n",
    "    def course_price_set(self , price ):\n",
    "        if price <= 3500:\n",
    "            pass\n",
    "        else :\n",
    "            self.__course_price = price"
   ]
  },
  {
   "cell_type": "code",
   "execution_count": 32,
   "id": "917df0cb-bab1-44d4-bed9-5cc33a143a97",
   "metadata": {},
   "outputs": [],
   "source": [
    "pw = pwskills(3000 , \"data science masters\")"
   ]
  },
  {
   "cell_type": "code",
   "execution_count": 33,
   "id": "699a4dcd-19fc-4baa-aef3-7909dfd11e67",
   "metadata": {},
   "outputs": [
    {
     "data": {
      "text/plain": [
       "3000"
      ]
     },
     "execution_count": 33,
     "metadata": {},
     "output_type": "execute_result"
    }
   ],
   "source": [
    "pw.course_price_access"
   ]
  },
  {
   "cell_type": "code",
   "execution_count": null,
   "id": "4f93927f-3a01-4793-b610-49879aca7b6d",
   "metadata": {},
   "outputs": [],
   "source": [
    "Q5.What is method overriding in python? Write a python code to demonstrate method overriding.\n",
    "Ans:-Method overriding allows you to redefine a method in a subclass or the derived class previously defined in its parent or the superclass. \n",
    "an OOP language can allow a child class or subclass to have a customised implementation of a method already provided by one of its parent classes or super-classes"
   ]
  },
  {
   "cell_type": "code",
   "execution_count": 34,
   "id": "52a4e78a-5d08-4e40-93a5-2cdd95e13b0a",
   "metadata": {},
   "outputs": [],
   "source": [
    "# Defining parent class \n",
    "class Parent(): \n",
    "      \n",
    "    # Constructor \n",
    "    def __init__(self): \n",
    "        self.value = \"Inside Parent\"\n",
    "          \n",
    "    # Parent's show method \n",
    "    def show(self): \n",
    "        print(self.value) \n",
    "          \n",
    "# Defining child class \n",
    "class Child(Parent): \n",
    "      \n",
    "    # Constructor \n",
    "    def __init__(self): \n",
    "        self.value = \"Inside Child\"\n",
    "          \n",
    "    # Child's show method \n",
    "    def show(self): \n",
    "        print(self.value)"
   ]
  },
  {
   "cell_type": "code",
   "execution_count": 35,
   "id": "3b34fd61-dc92-4169-91ba-2b114a88600c",
   "metadata": {},
   "outputs": [],
   "source": [
    "obj1 = Parent() \n",
    "obj2 = Child() "
   ]
  },
  {
   "cell_type": "code",
   "execution_count": 36,
   "id": "c50cc952-e53a-44e3-89a1-630e963b846c",
   "metadata": {},
   "outputs": [
    {
     "name": "stdout",
     "output_type": "stream",
     "text": [
      "Inside Parent\n",
      "Inside Child\n"
     ]
    }
   ],
   "source": [
    "obj1.show() \n",
    "obj2.show() "
   ]
  },
  {
   "cell_type": "code",
   "execution_count": null,
   "id": "e8f1244c-54bf-4ff1-9dda-1f2f610a260b",
   "metadata": {},
   "outputs": [],
   "source": []
  }
 ],
 "metadata": {
  "kernelspec": {
   "display_name": "Python 3 (ipykernel)",
   "language": "python",
   "name": "python3"
  },
  "language_info": {
   "codemirror_mode": {
    "name": "ipython",
    "version": 3
   },
   "file_extension": ".py",
   "mimetype": "text/x-python",
   "name": "python",
   "nbconvert_exporter": "python",
   "pygments_lexer": "ipython3",
   "version": "3.10.8"
  }
 },
 "nbformat": 4,
 "nbformat_minor": 5
}
