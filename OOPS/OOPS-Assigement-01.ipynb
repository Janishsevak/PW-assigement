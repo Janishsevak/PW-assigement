{
 "cells": [
  {
   "cell_type": "code",
   "execution_count": null,
   "id": "b1f21b38-d97d-4a72-98b5-09fc8d9b9147",
   "metadata": {},
   "outputs": [],
   "source": [
    "Q1. Explain Class and Object with respect to Object-Oriented Programming. Give a suitable example."
   ]
  },
  {
   "cell_type": "code",
   "execution_count": 1,
   "id": "fb9c6a91-4b89-4668-9e79-e371ec31b5bf",
   "metadata": {},
   "outputs": [],
   "source": [
    "class pwskills : ## Class of OOPS\n",
    "     def welcome_msg(self):\n",
    "        print(\"welcome to pwskills\")\n",
    "a = pwskills() ## object Of class "
   ]
  },
  {
   "cell_type": "code",
   "execution_count": 2,
   "id": "8f7767f2-82d3-42ad-9f4a-fca5643b5a47",
   "metadata": {},
   "outputs": [
    {
     "name": "stdout",
     "output_type": "stream",
     "text": [
      "welcome to pwskills\n"
     ]
    }
   ],
   "source": [
    "a.welcome_msg()## call to function"
   ]
  },
  {
   "cell_type": "raw",
   "id": "b04f373d-bb6c-43ed-aeec-13387ba28dda",
   "metadata": {},
   "source": [
    "Q2. Name the four pillars of OOPs.\n",
    "#Ans:- 1)encapsulation, \n",
    "       2)abstraction, \n",
    "       3)inheritance,\n",
    "       4)polymorphism "
   ]
  },
  {
   "cell_type": "raw",
   "id": "40c39327-09c9-4d21-ab4c-f65e747838bc",
   "metadata": {},
   "source": [
    "Q3. Explain why the __init__() function is used. Give a suitable example.\n",
    "Ans:- The __init__ method lets the class initialize the object's attributes and serves no other purpose.\n",
    "It is only used within classes#"
   ]
  },
  {
   "cell_type": "code",
   "execution_count": 8,
   "id": "9b490045-9418-4d26-b0d2-59fcdc1966f8",
   "metadata": {},
   "outputs": [
    {
     "data": {
      "text/plain": [
       "('John', 36)"
      ]
     },
     "execution_count": 8,
     "metadata": {},
     "output_type": "execute_result"
    }
   ],
   "source": [
    "class Person:\n",
    "    def __init__(self, name, age):\n",
    "        self.name = name\n",
    "        self.age = age\n",
    "\n",
    "p1 = Person(\"John\", 36)\n",
    "p1.name,p1.age"
   ]
  },
  {
   "cell_type": "raw",
   "id": "440754a2-b8f3-4b21-9841-b288c2e888b8",
   "metadata": {},
   "source": [
    "Q4. Why self is used in OOPs?\n",
    "Ans:-The “self” keyword represents the instance of the class. By using the “self” keyword,\n",
    "we can access the attributes and methods of the class. It is useful in method definitions and in variable initialization. \n",
    "The “self” is explicitly used every time we define a method."
   ]
  },
  {
   "cell_type": "raw",
   "id": "55404b74-a73e-4e35-8a26-43ae4f17b19f",
   "metadata": {},
   "source": [
    "Q5. What is inheritance? Give an example for each type of inheritance.\n",
    "Ans:-Inheritance is a mechanism in which one class acquires the property of another class. For example, a child inherits the traits of his/her parents. With inheritance, we can reuse the fields and methods of the existing class."
   ]
  },
  {
   "cell_type": "code",
   "execution_count": 9,
   "id": "8f3f03e3-f2f8-46d2-aa32-41399417435d",
   "metadata": {},
   "outputs": [],
   "source": [
    "class class1 : ## parent class\n",
    "    def test_class1(self) : \n",
    "        print(\"this is my class1 \" )"
   ]
  },
  {
   "cell_type": "code",
   "execution_count": 10,
   "id": "f176c5e5-f48b-468e-99f0-7c35923e9f0d",
   "metadata": {},
   "outputs": [],
   "source": [
    "class class2(class1) : ## child class\n",
    "    def test_class2(self) : \n",
    "        print(\"this is my class2\" )"
   ]
  },
  {
   "cell_type": "code",
   "execution_count": 13,
   "id": "dd2d2ccd-1f03-493d-853f-674498940ebb",
   "metadata": {},
   "outputs": [],
   "source": [
    "class_object = class2() ## create child class object"
   ]
  },
  {
   "cell_type": "code",
   "execution_count": 14,
   "id": "aa8d9261-6f4a-4a9b-8e2e-fc587a0ded85",
   "metadata": {},
   "outputs": [
    {
     "name": "stdout",
     "output_type": "stream",
     "text": [
      "this is my class1 \n"
     ]
    }
   ],
   "source": [
    "class_object.test_class1() ## call the function of parent class through child class object"
   ]
  },
  {
   "cell_type": "code",
   "execution_count": null,
   "id": "c4b1fe64-b219-4842-a765-d9b844357513",
   "metadata": {},
   "outputs": [],
   "source": []
  }
 ],
 "metadata": {
  "kernelspec": {
   "display_name": "Python 3 (ipykernel)",
   "language": "python",
   "name": "python3"
  },
  "language_info": {
   "codemirror_mode": {
    "name": "ipython",
    "version": 3
   },
   "file_extension": ".py",
   "mimetype": "text/x-python",
   "name": "python",
   "nbconvert_exporter": "python",
   "pygments_lexer": "ipython3",
   "version": "3.10.8"
  }
 },
 "nbformat": 4,
 "nbformat_minor": 5
}
