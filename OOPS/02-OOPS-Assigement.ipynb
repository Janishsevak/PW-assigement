{
 "cells": [
  {
   "cell_type": "markdown",
   "id": "c797d44f-2381-4962-a323-54a9300465dc",
   "metadata": {},
   "source": [
    "# Q1. What is Abstraction in OOps? Explain with an example.\n",
    "# Ans:-Abstraction in python is defined as a process of handling complexity by hiding unnecessary information from the user "
   ]
  },
  {
   "cell_type": "code",
   "execution_count": 3,
   "id": "7589dcd2-a066-432c-9c54-7e298d99740c",
   "metadata": {},
   "outputs": [],
   "source": [
    "import abc\n",
    "class pwskills:\n",
    "    \n",
    "    @abc.abstractmethod\n",
    "    def students_detials(self):\n",
    "        pass"
   ]
  },
  {
   "cell_type": "code",
   "execution_count": 4,
   "id": "8f25b887-09f1-4bfc-b650-4c808ecbda8a",
   "metadata": {},
   "outputs": [],
   "source": [
    "class student_detils(pwskills):\n",
    "    \n",
    "    def students_detials(self):\n",
    "        return \"this is a meth for taking students details\""
   ]
  },
  {
   "cell_type": "code",
   "execution_count": 5,
   "id": "84ac7ce6-281b-4e7b-b0fd-7d9f88385c33",
   "metadata": {},
   "outputs": [],
   "source": [
    "class data_science_maters(pwskills):\n",
    "    \n",
    "    def students_detials(self):\n",
    "        return \"this will return a student details for data science masters \""
   ]
  },
  {
   "cell_type": "code",
   "execution_count": 6,
   "id": "6e62f3aa-9742-4c0d-8fd8-0653a3df987e",
   "metadata": {},
   "outputs": [
    {
     "data": {
      "text/plain": [
       "'this will return a student details for data science masters '"
      ]
     },
     "execution_count": 6,
     "metadata": {},
     "output_type": "execute_result"
    }
   ],
   "source": [
    "dsm = data_science_maters()\n",
    "dsm.students_detials()"
   ]
  },
  {
   "cell_type": "markdown",
   "id": "9d4ee03e-2289-4ca8-a727-de2894623853",
   "metadata": {},
   "source": [
    "# Q2. Differentiate between Abstraction and Encapsulation. Explain with an example.\n",
    "# Ans:-Abstraction is a way of representing some specific data. \n",
    "# Encapsulation is a way of hiding the complexity of something and exposing only the parts you wish to expose."
   ]
  },
  {
   "cell_type": "code",
   "execution_count": 68,
   "id": "246f8e89-ba20-4772-bfab-63dff1a046b5",
   "metadata": {},
   "outputs": [],
   "source": [
    "import abc\n",
    "class pwskills:\n",
    "    \n",
    "   \n",
    "     def __init__(self,marks):\n",
    "        self._marks = marks\n",
    "        \n",
    "        @abc.abstractmethod\n",
    "            def students_detials(self):\n",
    "                pass"
   ]
  },
  {
   "cell_type": "code",
   "execution_count": 88,
   "id": "2f7d6cb3-8a74-4103-ad91-b502b7e0be05",
   "metadata": {},
   "outputs": [],
   "source": [
    "class student_detils(pwskills):\n",
    "    \n",
    "    def students_detials(self):\n",
    "        return \"this is a meth for taking students details\"\n",
    "    \n",
    "    def __init__(self,marks):\n",
    "        super().__init__(marks)\n",
    "        \n",
    "    def student_marks(self):\n",
    "            print(f\" student marks is {self._marks}\")\n",
    "    "
   ]
  },
  {
   "cell_type": "code",
   "execution_count": 91,
   "id": "22de3e59-ba1d-4b57-8777-390f1a07e125",
   "metadata": {},
   "outputs": [],
   "source": [
    "bc = student_detils(50)"
   ]
  },
  {
   "cell_type": "code",
   "execution_count": 92,
   "id": "e0d76422-07ab-4854-8268-15301197d20c",
   "metadata": {},
   "outputs": [
    {
     "data": {
      "text/plain": [
       "'this is a meth for taking students details'"
      ]
     },
     "execution_count": 92,
     "metadata": {},
     "output_type": "execute_result"
    }
   ],
   "source": [
    "ab.students_detials()"
   ]
  },
  {
   "cell_type": "markdown",
   "id": "cf00040d-6033-4e0d-b1db-34cfa340ca54",
   "metadata": {},
   "source": [
    "# Q3. What is abc module in python? Why is it used?\n",
    "## Ans:-Python is not a fully object-oriented programming language but it supports the features like abstract classes and abstraction. We cannot create abstract classes directly in Python, so Python provides a module called abc that provides the infrastructure for defining the base of Abstract Base Classes(ABC)."
   ]
  },
  {
   "cell_type": "markdown",
   "id": "8af60c63-5a33-4fe2-a81c-70acaa6d639e",
   "metadata": {},
   "source": [
    "## Q4. How can we achieve data abstraction?\n",
    "## Ans:-We can achieve data abstraction through Abstract classes and interfaces. Through abstract classes, you can achieve partial or complete abstraction as abstract classes contain methods that have an implementation which can result in partial abstraction"
   ]
  },
  {
   "cell_type": "markdown",
   "id": "32d13d18-d92d-4287-a057-72ed1ed30f41",
   "metadata": {},
   "source": [
    "## Q5. Can we create an instance of an abstract class? Explain your answer.\n",
    "## Ans:- Abstract classes cannot be instantiated, but they can be subclassed. When an abstract class is subclassed, the subclass usually provides implementations for all of the abstract methods in its parent class."
   ]
  }
 ],
 "metadata": {
  "kernelspec": {
   "display_name": "Python 3 (ipykernel)",
   "language": "python",
   "name": "python3"
  },
  "language_info": {
   "codemirror_mode": {
    "name": "ipython",
    "version": 3
   },
   "file_extension": ".py",
   "mimetype": "text/x-python",
   "name": "python",
   "nbconvert_exporter": "python",
   "pygments_lexer": "ipython3",
   "version": "3.10.8"
  }
 },
 "nbformat": 4,
 "nbformat_minor": 5
}
